{
 "cells": [
  {
   "cell_type": "code",
   "execution_count": null,
   "id": "2de977a2-d925-46eb-87b8-b53ec270bff1",
   "metadata": {},
   "outputs": [],
   "source": [
    "!pip3 install --upgrade pip\n",
    "!pip3 install pandas\n",
    "!pip3 install ipython-sql prettytable \n",
    "!pip3 install matplotlib\n",
    "!pip3 install seaborn\n",
    "!pip3 install numpy\n",
    "!pip3 install scipy\n",
    "!pip3 install scikit-learn\n",
    "\n",
    "!pip3 install ipython-sql\n",
    "\n",
    "\n",
    "import prettytable\n",
    "\n",
    "prettytable.DEFAULT = 'DEFAULT'"
   ]
  },
  {
   "cell_type": "code",
   "execution_count": null,
   "id": "8c1ef59a-519e-4817-89f4-a38855146c02",
   "metadata": {},
   "outputs": [],
   "source": []
  },
  {
   "cell_type": "code",
   "execution_count": null,
   "id": "c3a7fc25-bc29-40c4-ba15-3135eac5da44",
   "metadata": {},
   "outputs": [],
   "source": [
    "import pandas as pd\n",
    "import sqlite3\n",
    "import matplotlib.pyplot as plt\n",
    "import seaborn as sns\n",
    "import numpy as np\n",
    "from scipy import stats\n",
    "\n",
    "con = sqlite3.connect('data.db')\n",
    "\n",
    "cursor = con.cursor()\n",
    "\n",
    "\n"
   ]
  },
  {
   "cell_type": "code",
   "execution_count": null,
   "id": "ebce3679-5637-4afc-9a49-7bb1f8844da4",
   "metadata": {},
   "outputs": [],
   "source": [
    "# import chicago socioeconomic census data \n",
    "chicago_census_data = pd.read_csv ('https://cf-courses-data.s3.us.cloud-object-storage.appdomain.cloud/IBMDeveloperSkillsNetwork-DB0201EN-SkillsNetwork/labs/FinalModule_Coursera_V5/data/ChicagoCensusData.csv?utm_medium=Exinfluencer&utm_source=Exinfluencer&utm_content=000026UJ&utm_term=10006555&utm_id=NA-SkillsNetwork-Channel-SkillsNetworkCoursesIBMDeveloperSkillsNetworkDB0201ENSkillsNetwork20127838-2021-01-01')\n",
    "chicago_census_data.to_sql(\"CHICAGO_CENSUS_DATA\", con, if_exists='replace', index=False, method=\"multi\")\n"
   ]
  },
  {
   "cell_type": "code",
   "execution_count": null,
   "id": "4555ab81-ca31-4dff-860e-11d2e2681a21",
   "metadata": {},
   "outputs": [],
   "source": [
    "#chicago public school data\n",
    "chicago_public_schools = pd.read_csv('https://cf-courses-data.s3.us.cloud-object-storage.appdomain.cloud/IBMDeveloperSkillsNetwork-DB0201EN-SkillsNetwork/labs/FinalModule_Coursera_V5/data/ChicagoPublicSchools.csv?utm_medium=Exinfluencer&utm_source=Exinfluencer&utm_content=000026UJ&utm_term=10006555&utm_id=NA-SkillsNetwork-Channel-SkillsNetworkCoursesIBMDeveloperSkillsNetworkDB0201ENSkillsNetwork20127838-2021-01-01')\n",
    "chicago_public_schools.to_sql(\"CHICAGO_PUBLIC_SCHOOLS_DATA\", con, if_exists='replace', index=False)\n"
   ]
  },
  {
   "cell_type": "code",
   "execution_count": null,
   "id": "6601e278-a5df-422a-9366-c6c0af8e211a",
   "metadata": {},
   "outputs": [],
   "source": [
    "# chicago crime data\n",
    "chicago_crime_data = pd.read_csv('https://cf-courses-data.s3.us.cloud-object-storage.appdomain.cloud/IBMDeveloperSkillsNetwork-DB0201EN-SkillsNetwork/labs/FinalModule_Coursera_V5/data/ChicagoCrimeData.csv?utm_medium=Exinfluencer&utm_source=Exinfluencer&utm_content=000026UJ&utm_term=10006555&utm_id=NA-SkillsNetwork-Channel-SkillsNetworkCoursesIBMDeveloperSkillsNetworkDB0201ENSkillsNetwork20127838-2021-01-01')\n",
    "chicago_crime_data.to_sql(\"CHICAGO_CRIME_DATA\", con, if_exists='replace', index=False)\n",
    "\n"
   ]
  },
  {
   "cell_type": "code",
   "execution_count": null,
   "id": "eeb890f6-34dc-4f06-bedd-75b3c47c0fce",
   "metadata": {},
   "outputs": [],
   "source": [
    "# loading sql magic module to use % commands\n",
    "%load_ext sql\n",
    "\n",
    "# creating a connection between sql magic and 'FinalDB.db' database\n",
    "%sql sqlite:///data.db"
   ]
  },
  {
   "cell_type": "markdown",
   "id": "bcdbf1b0-a843-4987-8d8b-93b6f0c7936d",
   "metadata": {},
   "source": [
    "# **SQL Data Querying**"
   ]
  },
  {
   "cell_type": "markdown",
   "id": "7162c208-72b7-4f84-a59c-b2451628814a",
   "metadata": {},
   "source": [
    "## **Basic Descriptive Analysis**"
   ]
  },
  {
   "cell_type": "code",
   "execution_count": null,
   "id": "787cc170-90e1-437f-8989-fb45fb68a142",
   "metadata": {},
   "outputs": [],
   "source": [
    "%sql SELECT \\\n",
    "    MIN(PER_CAPITA_INCOME) as MIN_Income, \\\n",
    "    MAX(PER_CAPITA_INCOME) as MAX_Income, \\\n",
    "    AVG(PER_CAPITA_INCOME) as AVG_Income, \\\n",
    "    MIN(HARDSHIP_INDEX) as MIN_hardship, \\\n",
    "    MAX(HARDSHIP_INDEX) as MAX_hardship, \\\n",
    "    AVG(HARDSHIP_INDEX) as AVG_hardship \\\n",
    "    FROM CHICAGO_CENSUS_DATA;"
   ]
  },
  {
   "cell_type": "code",
   "execution_count": null,
   "id": "1213be70-9aa5-42e6-9827-68a22b65a9c2",
   "metadata": {},
   "outputs": [],
   "source": [
    "%sql PRAGMA table_info(CHICAGOPUBLICSCHOOLS);"
   ]
  },
  {
   "cell_type": "markdown",
   "id": "d99ee199-d72b-4914-9180-d816cd76a4cd",
   "metadata": {},
   "source": [
    "## **Most Crime Prone Community Names & Area Number**"
   ]
  },
  {
   "cell_type": "code",
   "execution_count": null,
   "id": "b9766a4c-6d0c-43ca-b4ad-2fc896b2dc19",
   "metadata": {},
   "outputs": [],
   "source": [
    "%sql SELECT CE.COMMUNITY_AREA_NAME, CR.COMMUNITY_AREA_NUMBER, COUNT(*) \\\n",
    "AS crime_count FROM CHICAGO_CRIME_DATA AS CR JOIN CHICAGO_CENSUS_DATA \\\n",
    "AS CE ON CR.COMMUNITY_AREA_NUMBER = CE.COMMUNITY_AREA_NUMBER GROUP BY \\\n",
    "CR.COMMUNITY_AREA_NUMBER, CE.COMMUNITY_AREA_NAME ORDER BY crime_count DESC;\n"
   ]
  },
  {
   "cell_type": "markdown",
   "id": "51daa761-95cf-4969-bda4-cbb066b4ffa1",
   "metadata": {},
   "source": [
    "##  **Finding the community with the highest hardship index**"
   ]
  },
  {
   "cell_type": "code",
   "execution_count": null,
   "id": "1c06120a-2eb4-42d9-9915-2a72802cdcf0",
   "metadata": {},
   "outputs": [],
   "source": [
    "%sql SELECT COMMUNITY_AREA_NAME, hardship_index FROM CHICAGO_CENSUS_DATA \\\n",
    "ORDER BY hardship_index DESC LIMIT 10;\n",
    "\n"
   ]
  },
  {
   "cell_type": "markdown",
   "id": "7f03e7fa-661e-471f-b08e-cd715d070ffa",
   "metadata": {},
   "source": [
    "##  **Correlation between income and hardship[*]**"
   ]
  },
  {
   "cell_type": "code",
   "execution_count": null,
   "id": "29091652-c34b-48ec-876f-f272739a68c1",
   "metadata": {},
   "outputs": [],
   "source": [
    "%sql SELECT \\\n",
    "    (SUM(PER_CAPITA_INCOME * HARDSHIP_INDEX) - SUM(PER_CAPITA_INCOME) * SUM(HARDSHIP_INDEX) / COUNT(*)) / \\\n",
    "    (SQRT(SUM(PER_CAPITA_INCOME * PER_CAPITA_INCOME) - SUM(PER_CAPITA_INCOME) * SUM(PER_CAPITA_INCOME) / COUNT(*)) * \\\n",
    "     SQRT(SUM(HARDSHIP_INDEX * HARDSHIP_INDEX) - SUM(HARDSHIP_INDEX) * SUM(HARDSHIP_INDEX) / COUNT(*))) as correlation \\\n",
    "FROM CHICAGO_CENSUS_DATA;\n"
   ]
  },
  {
   "cell_type": "markdown",
   "id": "6f7143ce-d9a7-42c9-9695-bdedaa3064e8",
   "metadata": {},
   "source": [
    "##  **Income disparity analysis[*]**"
   ]
  },
  {
   "cell_type": "code",
   "execution_count": null,
   "id": "9b74df60-e541-46ec-b78b-7593e0adfb84",
   "metadata": {},
   "outputs": [],
   "source": [
    "%sql WITH IncomeQuartiles AS ( \\\n",
    "    SELECT PER_CAPITA_INCOME, NTILE(4) OVER (ORDER BY PER_CAPITA_INCOME) as quartile FROM Chicago_Census_Data) \\\n",
    "SELECT quartile, \\\n",
    "    MIN(PER_CAPITA_INCOME) as min_income, \\\n",
    "    MAX(PER_CAPITA_INCOME) as max_income, \\\n",
    "    MAX(PER_CAPITA_INCOME) - MIN(PER_CAPITA_INCOME) as range, \\\n",
    "    MAX(PER_CAPITA_INCOME) / MIN(PER_CAPITA_INCOME) as ratio \\\n",
    "FROM IncomeQuartiles \\\n",
    "GROUP BY quartile \\\n",
    "ORDER BY quartile;\n"
   ]
  },
  {
   "cell_type": "markdown",
   "id": "1aa81fe3-1659-4ae1-ae65-5da6a9676778",
   "metadata": {},
   "source": [
    "## **Per Capita Income in Community by *Highest* Percentage of Households Below Poverty Level**"
   ]
  },
  {
   "cell_type": "code",
   "execution_count": null,
   "id": "e41483ed-845c-40cc-a1d8-cacd37f2d2d6",
   "metadata": {},
   "outputs": [],
   "source": [
    "%sql SELECT COMMUNITY_AREA_NAME, PERCENT_HOUSEHOLDS_BELOW_POVERTY, PER_CAPITA_INCOME \\\n",
    "FROM CHICAGO_CENSUS_DATA \\\n",
    "ORDER BY PERCENT_HOUSEHOLDS_BELOW_POVERTY \\\n",
    "DESC LIMIT 10 \n",
    "\n"
   ]
  },
  {
   "cell_type": "markdown",
   "id": "5181dbc8-7999-497e-ac7f-9b5e3b47ec4c",
   "metadata": {},
   "source": [
    "## **Per Capita Income in Community by *Lowest* Percentage of Households Below Poverty Level**"
   ]
  },
  {
   "cell_type": "code",
   "execution_count": null,
   "id": "a68288ed-7f0f-4296-bd15-617563edf4c0",
   "metadata": {},
   "outputs": [],
   "source": [
    "# Per capita income in community by lowest percentage of households below poverty level\n",
    "%sql SELECT COMMUNITY_AREA_NAME, PERCENT_HOUSEHOLDS_BELOW_POVERTY, PER_CAPITA_INCOME \\\n",
    "FROM CHICAGO_CENSUS_DATA \\\n",
    "ORDER BY PERCENT_HOUSEHOLDS_BELOW_POVERTY ASC \\\n",
    "LIMIT 10 \n"
   ]
  },
  {
   "cell_type": "markdown",
   "id": "27c62204-cb9e-4ff3-8399-26512783b231",
   "metadata": {},
   "source": [
    "## **Total College Enrollment from Community Area**"
   ]
  },
  {
   "cell_type": "code",
   "execution_count": null,
   "id": "776eb13f-78cf-4581-997a-76c6eb5cba25",
   "metadata": {},
   "outputs": [],
   "source": [
    "%sql select Community_Area_Name, sum(College_Enrollment) AS TOTAL_ENROLLMENT \\\n",
    "   from CHICAGO_PUBLIC_SCHOOLS_DATA \\\n",
    "   group by Community_Area_Name "
   ]
  },
  {
   "cell_type": "markdown",
   "id": "8bbc357f-1abf-46df-bf1d-a3fad0661658",
   "metadata": {},
   "source": [
    "## **Community Areas with the least total College Enrollment**"
   ]
  },
  {
   "cell_type": "code",
   "execution_count": null,
   "id": "425840c1-e2a7-4317-bbdc-fcd2aa56ce74",
   "metadata": {},
   "outputs": [],
   "source": [
    "%sql select Community_Area_Name, sum(College_Enrollment) AS TOTAL_ENROLLMENT \\\n",
    "   from CHICAGO_PUBLIC_SCHOOLS_DATA \\\n",
    "   group by Community_Area_Name \\\n",
    "   order by TOTAL_ENROLLMENT asc \\\n",
    "   LIMIT 10"
   ]
  },
  {
   "cell_type": "markdown",
   "id": "c3bdc0e5-81f8-4523-b202-f3ad503f44f0",
   "metadata": {},
   "source": [
    "## **School Safety Scores in Descending Order**"
   ]
  },
  {
   "cell_type": "code",
   "execution_count": null,
   "id": "b081f268-eead-4cfc-8467-6d63eba8453d",
   "metadata": {},
   "outputs": [],
   "source": [
    "%sql SELECT name_of_school, safety_score \\\n",
    "FROM CHICAGO_PUBLIC_SCHOOLS_DATA  where safety_score !='None' \\\n",
    "ORDER BY safety_score LIMIT 10"
   ]
  }
 ],
 "metadata": {
  "kernelspec": {
   "display_name": "Python 3 (ipykernel)",
   "language": "python",
   "name": "python3"
  },
  "language_info": {
   "codemirror_mode": {
    "name": "ipython",
    "version": 3
   },
   "file_extension": ".py",
   "mimetype": "text/x-python",
   "name": "python",
   "nbconvert_exporter": "python",
   "pygments_lexer": "ipython3",
   "version": "3.13.5"
  }
 },
 "nbformat": 4,
 "nbformat_minor": 5
}
